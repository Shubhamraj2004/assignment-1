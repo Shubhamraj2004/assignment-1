{
 "cells": [
  {
   "cell_type": "raw",
   "id": "55779e63-ca62-4a9a-b13b-41cc5430f184",
   "metadata": {},
   "source": [
    " What is Python, and why is it popular?\n",
    "---   Python is a versatile, high-level programming language known for its readability and ease of use, making it popular for a wide range of applications, including web development, data science, machine learning, and automation.\n"
   ]
  },
  {
   "cell_type": "raw",
   "id": "b82e73c7-5710-4f38-9199-bde9d79274c5",
   "metadata": {},
   "source": [
    "What is an interpreter in Python?\n",
    "--- interpret in python executes a code line by line rather than compiling it."
   ]
  },
  {
   "cell_type": "code",
   "execution_count": null,
   "id": "6e0bc090-e001-4193-ae99-2b71f3111540",
   "metadata": {},
   "outputs": [],
   "source": [
    " What are pre-defined keywords in Python?\n",
    "--- Reserved word are those words that have special meaning and can not be used for variable names."
   ]
  },
  {
   "cell_type": "code",
   "execution_count": null,
   "id": "b36c072a-fc1a-4cf5-b314-b20f16afbffd",
   "metadata": {},
   "outputs": [],
   "source": [
    "Can keywords be used as variable names?\n",
    "--- Keywords define the language's syntax rules and structure, and they cannot be used as variable names"
   ]
  },
  {
   "cell_type": "code",
   "execution_count": null,
   "id": "e5162bf6-56bb-425d-a7c7-26b781e9d086",
   "metadata": {},
   "outputs": [],
   "source": [
    "What is mutability in Python?\n",
    "--- Mutabiliy is defined as the ability of a object that can modified after creation. "
   ]
  },
  {
   "cell_type": "raw",
   "id": "b8871f3a-cfc0-413d-af5c-0874bf6bcde8",
   "metadata": {},
   "source": [
    " Why are lists mutable, but tuples are immutable?\n",
    "--- lists are mutable because list is modifies after creation and tuple can not be modifies after creation.\n"
   ]
  },
  {
   "cell_type": "code",
   "execution_count": null,
   "id": "7185f2ee-1321-451d-a92d-d503da1e464f",
   "metadata": {},
   "outputs": [],
   "source": [
    "What is the difference between “==” and “is” operators in Python?\n",
    "--- '==' operator cheques the value equality while 'is' operator verifies if two variable refrence the same object."
   ]
  },
  {
   "cell_type": "code",
   "execution_count": null,
   "id": "2b0c5d80-a2d3-491b-9e29-c5b1e962e1fe",
   "metadata": {},
   "outputs": [],
   "source": [
    " What are logical operators in Python?\n",
    "--- Logical operatord are 'and', 'or' and 'not'. It is used to combine or modify boolean expressions(True/False).\n"
   ]
  },
  {
   "cell_type": "code",
   "execution_count": null,
   "id": "667d62b0-d2a2-4efb-aff6-eb3583cd2e8c",
   "metadata": {},
   "outputs": [],
   "source": [
    " What is type casting in Python?\n",
    "--- type casting is the process of changing one variable data type into another data type.\n"
   ]
  },
  {
   "cell_type": "raw",
   "id": "c0ff104a-cdf7-4597-bec7-60240204f5ee",
   "metadata": {},
   "source": [
    " What is the difference between implicit and explicit type casting?\n",
    "--- implicit is done automatically while eplicit done manually using functions like int(), float(), char().\n"
   ]
  },
  {
   "cell_type": "raw",
   "id": "b169a5e2-bff9-46c8-bb20-dce79633db01",
   "metadata": {},
   "source": [
    " What is the purpose of conditional statements in Python?\n",
    "--- conditional statement is use to executes the conditions and make a deciesion whether a condition is true or false.\n"
   ]
  },
  {
   "cell_type": "code",
   "execution_count": null,
   "id": "192f30dd-24b3-42de-a842-dca08f2a2e88",
   "metadata": {},
   "outputs": [],
   "source": [
    " How does the elif statement work?\n",
    "--- It used to check multiple conditions sequentially and add additional condition after an 'if' statement.\n"
   ]
  },
  {
   "cell_type": "code",
   "execution_count": null,
   "id": "d2d8e3da-40c3-4aab-8960-a7bd8f021092",
   "metadata": {},
   "outputs": [],
   "source": [
    " What is the difference between for and while loops?\n",
    "--- The for loop is used when you know in advance how many times you want to execute the block of code.\n",
    "the while loop is used when you don't know in advance how many times you want to execute the block of code.\n",
    "It continues to execute as long as the specified condition is true.\n"
   ]
  },
  {
   "cell_type": "code",
   "execution_count": null,
   "id": "94cca657-bfb3-42e0-88af-a0ba8c7b84ff",
   "metadata": {},
   "outputs": [],
   "source": [
    "Describe a scenario where a while loop is more suitable than a for loop?\n",
    "--- A while loop is more suitable than a for loop when the number of iterations is not known in advance and the loop should continue until a specific condition is met."
   ]
  },
  {
   "cell_type": "code",
   "execution_count": null,
   "id": "3c458102-92c5-412e-a848-7d035d08f975",
   "metadata": {},
   "outputs": [],
   "source": [
    "#practicals"
   ]
  },
  {
   "cell_type": "code",
   "execution_count": 1,
   "id": "ae35f6a4-df52-4b2c-abb7-4df7156d630f",
   "metadata": {},
   "outputs": [
    {
     "name": "stdout",
     "output_type": "stream",
     "text": [
      "Hello,World!\n"
     ]
    }
   ],
   "source": [
    " #write a pyhton program to print \"Hello, World!\n",
    "print(\"Hello,World!\")"
   ]
  },
  {
   "cell_type": "code",
   "execution_count": 4,
   "id": "b4f7082b-619a-4ca9-9ad4-6164ce3fda13",
   "metadata": {},
   "outputs": [
    {
     "name": "stdout",
     "output_type": "stream",
     "text": [
      "my name is shubham and i am 20 years old \n"
     ]
    }
   ],
   "source": [
    "#write a python program that display your name and age.\n",
    "Name = \"Shubham\"\n",
    "age =  20\n",
    "print(\"my name is shubham and i am 20 years old \")"
   ]
  },
  {
   "cell_type": "code",
   "execution_count": 7,
   "id": "30218b80-ce94-4520-b567-40463ca321b5",
   "metadata": {},
   "outputs": [
    {
     "name": "stdout",
     "output_type": "stream",
     "text": [
      "['False', 'None', 'True', 'and', 'as', 'assert', 'async', 'await', 'break', 'class', 'continue', 'def', 'del', 'elif', 'else', 'except', 'finally', 'for', 'from', 'global', 'if', 'import', 'in', 'is', 'lambda', 'nonlocal', 'not', 'or', 'pass', 'raise', 'return', 'try', 'while', 'with', 'yield']\n"
     ]
    }
   ],
   "source": [
    "#write a code to print all the pre-defined keywords in python using a keywoerd library.\n",
    "import  keyword\n",
    "print(keyword.kwlist)"
   ]
  },
  {
   "cell_type": "code",
   "execution_count": 16,
   "id": "60ba6cde-9b1d-418f-8b28-72e35b797889",
   "metadata": {},
   "outputs": [
    {
     "name": "stdin",
     "output_type": "stream",
     "text": [
      "Enter a word:  pass\n"
     ]
    },
    {
     "name": "stdout",
     "output_type": "stream",
     "text": [
      "pass is a Python keyword: True\n"
     ]
    }
   ],
   "source": [
    "#write a python code to check if a given word is a python keyword\n",
    "import keyword\n",
    "word = input(\"Enter a word: \")\n",
    "print(f\"{word} is a Python keyword: {keyword.iskeyword(word)}\")\n"
   ]
  },
  {
   "cell_type": "code",
   "execution_count": 19,
   "id": "6b3682ce-9f9b-4aa4-b8ab-a2cf4b2cb819",
   "metadata": {},
   "outputs": [
    {
     "name": "stdout",
     "output_type": "stream",
     "text": [
      "List after modification: [10, 2, 3]\n",
      "Tuples remain unchanged: (1, 2, 3)\n"
     ]
    }
   ],
   "source": [
    "#create a list and tuple in python , and demonstrate how attempting to change an element work differently for each.\n",
    "my_list = [1,2,3]\n",
    "muy_tuple = (1,2,3)\n",
    "\n",
    "my_list[0] = 10  # Works\n",
    "\n",
    "print(\"List after modification:\", my_list)\n",
    "print(\"Tuples remain unchanged:\", my_tuple)\n"
   ]
  },
  {
   "cell_type": "code",
   "execution_count": 20,
   "id": "0fca7901-fad8-4649-8e34-1d10e592f09a",
   "metadata": {},
   "outputs": [
    {
     "name": "stdout",
     "output_type": "stream",
     "text": [
      "Modified List: [1, 2, 3, 4]\n",
      "Tuple remains unchanged: (1, 2, 3)\n"
     ]
    }
   ],
   "source": [
    "#write a function to demonstrate the behaviour of mutable and unmutable arguments.\n",
    "def modify_data(mutable, immutable):\n",
    "    mutable.append(4)\n",
    "    immutable += (4,)\n",
    "\n",
    "my_list = [1, 2, 3]\n",
    "my_tuple = (1, 2, 3)\n",
    "\n",
    "modify_data(my_list, my_tuple)\n",
    "print(\"Modified List:\", my_list)\n",
    "print(\"Tuple remains unchanged:\", my_tuple)\n",
    "\n"
   ]
  },
  {
   "cell_type": "code",
   "execution_count": 26,
   "id": "5cc79556-4590-4204-b1a2-2aa9d2671763",
   "metadata": {},
   "outputs": [
    {
     "name": "stdin",
     "output_type": "stream",
     "text": [
      "Enter first number:  25\n",
      "Enter second number:  25\n"
     ]
    },
    {
     "name": "stdout",
     "output_type": "stream",
     "text": [
      "Sum: 50.0, Difference: 0.0, Product: 625.0, Quotient: 1.0\n"
     ]
    }
   ],
   "source": [
    "#write a program that performs basic arithmetic operation on two user input numbers:\n",
    "num1 = float(input(\"Enter first number: \"))\n",
    "num2 = float(input(\"Enter second number: \"))\n",
    "print(f\"Sum: {num1 + num2}, Difference: {num1 - num2}, Product: {num1 * num2}, Quotient: {num1 / num2}\")\n"
   ]
  },
  {
   "cell_type": "code",
   "execution_count": 34,
   "id": "14f9b44b-15e3-490b-b0ec-c958dcdecd01",
   "metadata": {},
   "outputs": [
    {
     "name": "stdout",
     "output_type": "stream",
     "text": [
      "a and b: False\n",
      "a or b: True\n",
      "a and b: False\n",
      "a and b: True\n"
     ]
    }
   ],
   "source": [
    "#write a program to demonstrate the use of logical operators.\n",
    "a = True\n",
    "b = False\n",
    "print(\"a and b:\", a and b)\n",
    "print(\"a or b:\",  a or b)\n",
    "print(\"a and b:\", a and b)\n",
    "print(\"a and b:\", a or b)"
   ]
  },
  {
   "cell_type": "code",
   "execution_count": 56,
   "id": "519ed100-d7f8-4adc-8a70-d7422da10174",
   "metadata": {},
   "outputs": [
    {
     "name": "stdin",
     "output_type": "stream",
     "text": [
      "Enter a value:  2.5\n"
     ]
    },
    {
     "name": "stdout",
     "output_type": "stream",
     "text": [
      "Integer conversion: None\n",
      "Float conversion: 2.5\n",
      "Boolean conversion: True\n"
     ]
    }
   ],
   "source": [
    "#write a program to convert user input from string to integer,float and boolean types.\n",
    "# Taking user input as a string\n",
    "user_input = input(\"Enter a value: \")\n",
    "\n",
    "# Converting to integer, float, and boolean\n",
    "try:\n",
    "    int_value = int(user_input)\n",
    "except ValueError:\n",
    "    int_value = None  # Assign None if conversion fails\n",
    "\n",
    "try:\n",
    "    float_value = float(user_input)\n",
    "except ValueError:\n",
    "    float_value = None  # Assign None if conversion fails\n",
    "\n",
    "bool_value = bool(user_input)  \n",
    "# Displaying results\n",
    "print(f\"Integer conversion: {int_value}\")\n",
    "print(f\"Float conversion: {float_value}\")\n",
    "print(f\"Boolean conversion: {bool_value}\")\n"
   ]
  },
  {
   "cell_type": "code",
   "execution_count": 63,
   "id": "e717aa8d-9279-4ace-9901-c7f26a453ddd",
   "metadata": {},
   "outputs": [
    {
     "name": "stdout",
     "output_type": "stream",
     "text": [
      "[1, 2, 3]\n"
     ]
    }
   ],
   "source": [
    "#write a code to demonstrate type casting with list elements.\n",
    "my_list = ['1', '2', '3']\n",
    "my_list = list(map(int, my_list)) # Convert all elements to integers\n",
    "print(my_list)"
   ]
  },
  {
   "cell_type": "code",
   "execution_count": 72,
   "id": "ff66a97f-0d5f-42b1-9f92-e4b2ee6babf8",
   "metadata": {},
   "outputs": [
    {
     "name": "stdin",
     "output_type": "stream",
     "text": [
      "enter a value: -5\n"
     ]
    },
    {
     "name": "stdout",
     "output_type": "stream",
     "text": [
      "negative\n"
     ]
    }
   ],
   "source": [
    "#write a program that check if number is positive, negative, zero.\n",
    "num = int(input(\"enter a value:\"))\n",
    "if num > 0:\n",
    "    print(\"positive\")\n",
    "elif num < 0:\n",
    "    print(\"negative\")\n",
    "else:\n",
    "    print(\"zero\")"
   ]
  },
  {
   "cell_type": "code",
   "execution_count": 80,
   "id": "5dc8a32e-82a9-4bf0-aa0b-28b45146d43d",
   "metadata": {},
   "outputs": [
    {
     "name": "stdout",
     "output_type": "stream",
     "text": [
      "1\n",
      "2\n",
      "3\n",
      "4\n",
      "5\n",
      "6\n",
      "7\n",
      "8\n",
      "9\n",
      "10\n"
     ]
    }
   ],
   "source": [
    "#write a for loop to print numbers from  1 to 10.\n",
    "for i in range(1, 11):\n",
    "    print(i)\n"
   ]
  },
  {
   "cell_type": "code",
   "execution_count": 86,
   "id": "d5611299-6c35-4531-a002-3cc03614a26d",
   "metadata": {},
   "outputs": [
    {
     "name": "stdout",
     "output_type": "stream",
     "text": [
      "The sum of all even numbers between 1 and 50 is: 650\n"
     ]
    }
   ],
   "source": [
    "#write a python program to find the sum of all even numbers between 1 and 50.\n",
    "\n",
    "even_sum = 0\n",
    "for num in range(2, 51, 2):  \n",
    "    even_sum += num  \n",
    "    \n",
    "print(f\"The sum of all even numbers between 1 and 50 is: {even_sum}\")"
   ]
  },
  {
   "cell_type": "code",
   "execution_count": 90,
   "id": "536bea47-bf28-4443-ba5f-f40900610696",
   "metadata": {},
   "outputs": [
    {
     "name": "stdin",
     "output_type": "stream",
     "text": [
      "Enter a string:  KANCHAN\n"
     ]
    },
    {
     "name": "stdout",
     "output_type": "stream",
     "text": [
      "Reversed String: NAHCNAK\n"
     ]
    }
   ],
   "source": [
    "#write a program to reverse a string using while loop.\n",
    "s = input(\"Enter a string: \")\n",
    "reversed_s = \"\"\n",
    "i = len(s) - 1\n",
    "while i >= 0:\n",
    "    reversed_s += s[i]\n",
    "    i -= 1\n",
    "print(\"Reversed String:\", reversed_s)\n",
    "\n"
   ]
  },
  {
   "cell_type": "code",
   "execution_count": 92,
   "id": "2d830632-b640-4fdc-a5c8-bce980c518be",
   "metadata": {},
   "outputs": [
    {
     "name": "stdin",
     "output_type": "stream",
     "text": [
      "Enter a number:  45\n"
     ]
    },
    {
     "name": "stdout",
     "output_type": "stream",
     "text": [
      "Factorial of 45 is 119622220865480194561963161495657715064383733760000000000\n"
     ]
    }
   ],
   "source": [
    "# Write a Python program to calculate the factorial of a number provided by the user using a while loop.\n",
    "num = int(input(\"Enter a number: \"))\n",
    "fact = 1\n",
    "i = 1\n",
    "while i <= num:\n",
    "    fact *= i\n",
    "    i += 1\n",
    "print(f\"Factorial of {num} is {fact}\")\n"
   ]
  },
  {
   "cell_type": "code",
   "execution_count": null,
   "id": "18131cff-6afa-4ace-a3d8-d67ae3e2fc40",
   "metadata": {},
   "outputs": [],
   "source": []
  }
 ],
 "metadata": {
  "kernelspec": {
   "display_name": "Python 3 (ipykernel)",
   "language": "python",
   "name": "python3"
  },
  "language_info": {
   "codemirror_mode": {
    "name": "ipython",
    "version": 3
   },
   "file_extension": ".py",
   "mimetype": "text/x-python",
   "name": "python",
   "nbconvert_exporter": "python",
   "pygments_lexer": "ipython3",
   "version": "3.12.7"
  }
 },
 "nbformat": 4,
 "nbformat_minor": 5
}
