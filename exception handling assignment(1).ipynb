{
 "cells": [
  {
   "cell_type": "markdown",
   "id": "ec56d537-b090-4b06-9acd-c95317937b74",
   "metadata": {},
   "source": [
    "EXPERIMENT"
   ]
  },
  {
   "cell_type": "code",
   "execution_count": null,
   "id": "01732384-3bf5-40eb-93af-5bffaac5201c",
   "metadata": {},
   "outputs": [],
   "source": [
    "Question 1.How can you open a file for writing in Python and write a string to it?"
   ]
  },
  {
   "cell_type": "code",
   "execution_count": 1,
   "id": "359dfe2b-53e0-4195-a2ec-e575552d8ab2",
   "metadata": {},
   "outputs": [
    {
     "name": "stdout",
     "output_type": "stream",
     "text": [
      "String successfully written to 'my_output_file.txt'\n"
     ]
    }
   ],
   "source": [
    "#Answer 1. \n",
    "# Open a file for writing (creates the file if it doesn't exist, overwrites if it does)\n",
    "with open(\"my_output_file.txt\", \"w\") as file:\n",
    "    file.write(\"Hello, this is the first line.\\n\")\n",
    "    file.write(\"And this is the second line of text.\\n\")\n",
    "    file.write(\"Python is great for file operations!\")\n",
    "\n",
    "print(\"String successfully written to 'my_output_file.txt'\")"
   ]
  },
  {
   "cell_type": "code",
   "execution_count": null,
   "id": "7b900ed6-dba5-4332-a46f-904bc045c1dd",
   "metadata": {},
   "outputs": [],
   "source": [
    "Question 2.Write a Python program to read the contents of a file and print each line."
   ]
  },
  {
   "cell_type": "code",
   "execution_count": 1,
   "id": "2e80aa58-6ad3-48ea-943d-0812d803df20",
   "metadata": {},
   "outputs": [
    {
     "name": "stdout",
     "output_type": "stream",
     "text": [
      "Contents of 'sample_read.txt':\n",
      "Line 1: Reading is fun.\n",
      "Line 2: Python makes it easy.\n",
      "Line 3: End of file.\n"
     ]
    }
   ],
   "source": [
    "#Answer 2.\n",
    "# Create a sample file for reading\n",
    "with open(\"sample_read.txt\", 'w') as f:\n",
    "    f.write(\"Line 1: Reading is fun.\\n\")\n",
    "    f.write(\"Line 2: Python makes it easy.\\n\")\n",
    "    f.write(\"Line 3: End of file.\")\n",
    "\n",
    "# Open the file in read mode ('r')\n",
    "file_path = \"sample_read.txt\"\n",
    "try:\n",
    "    with open(file_path, 'r') as file:\n",
    "        print(f\"Contents of '{file_path}':\")\n",
    "        for line in file:\n",
    "            print(line.strip()) # .strip() removes leading/trailing whitespace, including newline characters\n",
    "except FileNotFoundError:\n",
    "    print(f\"Error: The file '{file_path}' was not found.\")"
   ]
  },
  {
   "cell_type": "code",
   "execution_count": null,
   "id": "209174f1-46b9-42f6-b62a-88ac620ded05",
   "metadata": {},
   "outputs": [],
   "source": [
    "Question 3. How would you handle a case where the file doesn't exist while trying to open it for reading?"
   ]
  },
  {
   "cell_type": "code",
   "execution_count": 2,
   "id": "b64b9739-0d59-48e9-b8e1-9ddfc0a611d0",
   "metadata": {},
   "outputs": [
    {
     "name": "stdout",
     "output_type": "stream",
     "text": [
      "Error: The file 'non_existent_file.txt' does not exist.\n"
     ]
    }
   ],
   "source": [
    "#Answer 3.\n",
    "file_path = \"non_existent_file.txt\"\n",
    "try:\n",
    "    with open(file_path, 'r') as file:\n",
    "        content = file.read()\n",
    "        print(content)\n",
    "except FileNotFoundError:\n",
    "    print(f\"Error: The file '{file_path}' does not exist.\")"
   ]
  },
  {
   "cell_type": "code",
   "execution_count": null,
   "id": "f437f77a-8074-4905-8744-8b7cd24f7147",
   "metadata": {},
   "outputs": [],
   "source": [
    "Question 4.Write a Python script that reads from one file and writes its content to another file."
   ]
  },
  {
   "cell_type": "code",
   "execution_count": 3,
   "id": "391e7f2c-3b2e-4e5c-9d31-aa1621298c1f",
   "metadata": {},
   "outputs": [
    {
     "name": "stdout",
     "output_type": "stream",
     "text": [
      "Content from 'source.txt' copied to 'destination.txt' successfully.\n"
     ]
    }
   ],
   "source": [
    "#Answer 4.\n",
    "source_file = \"source.txt\"\n",
    "destination_file = \"destination.txt\"\n",
    "\n",
    "# Create a sample source file\n",
    "with open(source_file, 'w') as f:\n",
    "    f.write(\"This is content from the source file.\\n\")\n",
    "    f.write(\"It will be copied to the destination file.\")\n",
    "\n",
    "try:\n",
    "    with open(source_file, 'r') as s_file:\n",
    "        content = s_file.read()\n",
    "    with open(destination_file, 'w') as d_file:\n",
    "        d_file.write(content)\n",
    "    print(f\"Content from '{source_file}' copied to '{destination_file}' successfully.\")\n",
    "except FileNotFoundError:\n",
    "    print(f\"Error: The source file '{source_file}' was not found.\")\n",
    "except Exception as e:\n",
    "    print(f\"An unexpected error occurred: {e}\")"
   ]
  },
  {
   "cell_type": "code",
   "execution_count": null,
   "id": "83a78f75-925f-4ff6-92c1-a2b53b924f0a",
   "metadata": {},
   "outputs": [],
   "source": [
    "Question 5.How would you catch and handle division by zero error in Python?"
   ]
  },
  {
   "cell_type": "code",
   "execution_count": 5,
   "id": "0f63717c-b9d0-45fb-93e8-b42c4bb71322",
   "metadata": {},
   "outputs": [
    {
     "name": "stdout",
     "output_type": "stream",
     "text": [
      "Error: Cannot divide by zero!\n"
     ]
    }
   ],
   "source": [
    "#Answer 5\n",
    "try:\n",
    "    numerator = 10\n",
    "    denominator = 0\n",
    "    result = numerator / denominator\n",
    "    print(result)\n",
    "except ZeroDivisionError:\n",
    "    print(\"Error: Cannot divide by zero!\")"
   ]
  },
  {
   "cell_type": "code",
   "execution_count": null,
   "id": "dd327f68-1196-4891-90c0-f20b24c1a575",
   "metadata": {},
   "outputs": [],
   "source": [
    "Question 6.Write a Python program that logs an error message to a log file when a division by zero exception occurs.\n"
   ]
  },
  {
   "cell_type": "code",
   "execution_count": 6,
   "id": "f10e744b-d803-4cc1-98de-5386764f71ff",
   "metadata": {},
   "outputs": [
    {
     "name": "stdout",
     "output_type": "stream",
     "text": [
      "An error occurred. Check 'app_errors.log' for details.\n"
     ]
    }
   ],
   "source": [
    "#Answer 6.\n",
    "import logging\n",
    "\n",
    "# Configure logging to a file\n",
    "logging.basicConfig(filename='app_errors.log', level=logging.ERROR,\n",
    "                    format='%(asctime)s - %(levelname)s - %(message)s')\n",
    "\n",
    "try:\n",
    "    numerator = 20\n",
    "    denominator = 0\n",
    "    result = numerator / denominator\n",
    "    print(result)\n",
    "except ZeroDivisionError:\n",
    "    logging.error(\"A ZeroDivisionError occurred: Attempted to divide by zero.\")\n",
    "    print(\"An error occurred. Check 'app_errors.log' for details.\")"
   ]
  },
  {
   "cell_type": "code",
   "execution_count": null,
   "id": "daaf70e6-7caf-4104-88a5-92bc3e000dac",
   "metadata": {},
   "outputs": [],
   "source": [
    "Question 7.How do you log information at different levels (INFO, ERROR, WARNING) in Python using the logging module?"
   ]
  },
  {
   "cell_type": "code",
   "execution_count": 8,
   "id": "a5377fea-ab50-4d75-bc9f-062e297eb6cf",
   "metadata": {},
   "outputs": [],
   "source": [
    "#Answer 7.\n",
    "import logging\n",
    "\n",
    "# Basic configuration (logs to console by default)\n",
    "logging.basicConfig(level=logging.INFO, format='%(asctime)s - %(levelname)s - %(message)s')\n",
    "\n",
    "logging.debug(\"This is a debug message.\")       # Not shown with INFO level\n",
    "logging.info(\"This is an informational message.\")\n",
    "logging.warning(\"This is a warning message.\")\n",
    "logging.error(\"This is an error message.\")\n",
    "logging.critical(\"This is a critical message.\")"
   ]
  },
  {
   "cell_type": "code",
   "execution_count": null,
   "id": "beb29aad-d22d-4df0-8879-22b9a88faf95",
   "metadata": {},
   "outputs": [],
   "source": [
    "Question 8.Write a program to handle a file opening error using exception handling.\n"
   ]
  },
  {
   "cell_type": "code",
   "execution_count": 9,
   "id": "ebd536e2-7e22-46a5-b384-75df5c49a397",
   "metadata": {},
   "outputs": [
    {
     "name": "stdout",
     "output_type": "stream",
     "text": [
      "Error: The file 'non_existent_document.txt' could not be found.\n"
     ]
    }
   ],
   "source": [
    "#Answer 8.\n",
    "file_to_open = \"non_existent_document.txt\"\n",
    "\n",
    "try:\n",
    "    with open(file_to_open, 'r') as file:\n",
    "        content = file.read()\n",
    "        print(content)\n",
    "except FileNotFoundError:\n",
    "    print(f\"Error: The file '{file_to_open}' could not be found.\")\n",
    "except IOError as e: # Catches other I/O errors like permission denied\n",
    "    print(f\"An I/O error occurred: {e}\")"
   ]
  },
  {
   "cell_type": "code",
   "execution_count": null,
   "id": "30ddad37-7412-49b9-aa9d-e2047d8a27c3",
   "metadata": {},
   "outputs": [],
   "source": [
    "Question 9.How can you read a file line by line and store its content in a list in Python?"
   ]
  },
  {
   "cell_type": "code",
   "execution_count": 10,
   "id": "b2f523f3-992a-4fe8-92ef-971536384d0e",
   "metadata": {},
   "outputs": [
    {
     "name": "stdout",
     "output_type": "stream",
     "text": [
      "File content stored in a list:\n",
      "['First line of text.', 'Second line here.', 'Third and final line.']\n"
     ]
    }
   ],
   "source": [
    "#Answer 9\n",
    "file_path = \"list_lines.txt\"\n",
    "\n",
    "# Create a sample file\n",
    "with open(file_path, 'w') as f:\n",
    "    f.write(\"First line of text.\\n\")\n",
    "    f.write(\"Second line here.\\n\")\n",
    "    f.write(\"Third and final line.\")\n",
    "\n",
    "lines_list = []\n",
    "try:\n",
    "    with open(file_path, 'r') as file:\n",
    "        for line in file:\n",
    "            lines_list.append(line.strip()) # .strip() to remove newline characters\n",
    "    print(\"File content stored in a list:\")\n",
    "    print(lines_list)\n",
    "except FileNotFoundError:\n",
    "    print(f\"Error: The file '{file_path}' was not found.\")"
   ]
  },
  {
   "cell_type": "code",
   "execution_count": null,
   "id": "dd3e9c58-fe88-4db8-84d4-7c536d742492",
   "metadata": {},
   "outputs": [],
   "source": [
    "Question 10.How can you append data to an existing file in Python?\n"
   ]
  },
  {
   "cell_type": "code",
   "execution_count": 11,
   "id": "1aa2e1b1-a91e-4c1f-a5fb-cb49a4213d0f",
   "metadata": {},
   "outputs": [
    {
     "name": "stdout",
     "output_type": "stream",
     "text": [
      "Data appended to 'my_existing_file.txt'.\n",
      "\n",
      "Content after appending:\n",
      "Initial content.\n",
      "This line is appended.\n",
      "And another appended line.\n"
     ]
    }
   ],
   "source": [
    "#Answer 10.\n",
    "file_to_append = \"my_existing_file.txt\"\n",
    "\n",
    "# Create or clear the file for demonstration\n",
    "with open(file_to_append, 'w') as f:\n",
    "    f.write(\"Initial content.\\n\")\n",
    "\n",
    "# Append new data\n",
    "with open(file_to_append, 'a') as file:\n",
    "    file.write(\"This line is appended.\\n\")\n",
    "    file.write(\"And another appended line.\")\n",
    "\n",
    "print(f\"Data appended to '{file_to_append}'.\")\n",
    "\n",
    "# Verify content\n",
    "with open(file_to_append, 'r') as file:\n",
    "    print(\"\\nContent after appending:\")\n",
    "    print(file.read())"
   ]
  },
  {
   "cell_type": "code",
   "execution_count": null,
   "id": "d197af59-cc9e-413a-8ffc-f17afcc6e182",
   "metadata": {},
   "outputs": [],
   "source": [
    "Question 11.Write a Python program that uses a try-except block to handle an error when attempting to access a dictionary key that doesn't exist."
   ]
  },
  {
   "cell_type": "code",
   "execution_count": 12,
   "id": "e61c65f8-6028-4341-a560-d378219fc0b7",
   "metadata": {},
   "outputs": [
    {
     "name": "stdout",
     "output_type": "stream",
     "text": [
      "Error: The key 'city' does not exist in the dictionary.\n"
     ]
    }
   ],
   "source": [
    "#Answer 11\n",
    "my_dict = {\"name\": \"Alice\", \"age\": 30}\n",
    "\n",
    "try:\n",
    "    value = my_dict[\"city\"]\n",
    "    print(f\"The value for 'city' is: {value}\")\n",
    "except KeyError:\n",
    "    print(\"Error: The key 'city' does not exist in the dictionary.\")"
   ]
  },
  {
   "cell_type": "code",
   "execution_count": null,
   "id": "90a2b1f6-2f7a-4fe7-a543-64acbf3e6323",
   "metadata": {},
   "outputs": [],
   "source": [
    "Question 12.Write a program that demonstrates using multiple except blocks to handle different types of exceptions."
   ]
  },
  {
   "cell_type": "code",
   "execution_count": 13,
   "id": "50395fff-22f8-4a13-b4b1-56217f58fae0",
   "metadata": {},
   "outputs": [
    {
     "name": "stdout",
     "output_type": "stream",
     "text": [
      "Result: 10.0\n",
      "Error: Invalid index '5'. List index out of range.\n",
      "Error: Cannot divide by zero.\n",
      "Error: Type mismatch. Ensure data elements are numbers.\n"
     ]
    }
   ],
   "source": [
    "#Answer 12.\n",
    "def perform_operation(data, index, divisor):\n",
    "    try:\n",
    "        value = data[index]\n",
    "        result = value / divisor\n",
    "        print(f\"Result: {result}\")\n",
    "    except IndexError:\n",
    "        print(f\"Error: Invalid index '{index}'. List index out of range.\")\n",
    "    except ZeroDivisionError:\n",
    "        print(f\"Error: Cannot divide by zero.\")\n",
    "    except TypeError:\n",
    "        print(f\"Error: Type mismatch. Ensure data elements are numbers.\")\n",
    "    except Exception as e: # Catch any other unexpected exceptions\n",
    "        print(f\"An unexpected error occurred: {e}\")\n",
    "\n",
    "my_list = [10, 20, 30]\n",
    "\n",
    "perform_operation(my_list, 1, 2)  # Valid\n",
    "perform_operation(my_list, 5, 2)  # IndexError\n",
    "perform_operation(my_list, 0, 0)  # ZeroDivisionError\n",
    "perform_operation([\"a\", \"b\"], 0, 1) # TypeError"
   ]
  },
  {
   "cell_type": "code",
   "execution_count": null,
   "id": "52d971a0-8e5d-4f51-a82f-7fb2552df828",
   "metadata": {},
   "outputs": [],
   "source": [
    "Question 13. How would you check if a file exists before attempting to read it in Python?"
   ]
  },
  {
   "cell_type": "code",
   "execution_count": 14,
   "id": "9bdbd8b2-92d5-4fe4-a79c-647afacb540c",
   "metadata": {},
   "outputs": [
    {
     "name": "stdout",
     "output_type": "stream",
     "text": [
      "'existing_file.txt' exists. Proceeding to read...\n",
      "This file exists.\n",
      "'another_non_existent.txt' does not exist.\n"
     ]
    }
   ],
   "source": [
    "#Answer 13.\n",
    "import os\n",
    "\n",
    "file_to_check = \"existing_file.txt\"\n",
    "non_existent_file = \"another_non_existent.txt\"\n",
    "\n",
    "# Create a dummy file for demonstration\n",
    "with open(file_to_check, 'w') as f:\n",
    "    f.write(\"This file exists.\")\n",
    "\n",
    "if os.path.exists(file_to_check):\n",
    "    print(f\"'{file_to_check}' exists. Proceeding to read...\")\n",
    "    with open(file_to_check, 'r') as file:\n",
    "        print(file.read())\n",
    "else:\n",
    "    print(f\"'{file_to_check}' does not exist.\")\n",
    "\n",
    "if os.path.exists(non_existent_file):\n",
    "    print(f\"'{non_existent_file}' exists.\")\n",
    "else:\n",
    "    print(f\"'{non_existent_file}' does not exist.\")"
   ]
  },
  {
   "cell_type": "code",
   "execution_count": null,
   "id": "b90351fe-44fc-4dc8-9c61-a89c44bd9a7b",
   "metadata": {},
   "outputs": [],
   "source": [
    "Question 14. Write a program that uses the logging module to log both informational and error messages"
   ]
  },
  {
   "cell_type": "code",
   "execution_count": 15,
   "id": "6c4aaa1e-1d7b-45d1-a158-ef4cff5c5641",
   "metadata": {},
   "outputs": [
    {
     "name": "stdout",
     "output_type": "stream",
     "text": [
      "Check 'app_events.log' for messages.\n"
     ]
    }
   ],
   "source": [
    "#Answer 14.\n",
    "import logging\n",
    "\n",
    "# Configure logging to a file\n",
    "logging.basicConfig(filename='app_events.log', level=logging.INFO,\n",
    "                    format='%(asctime)s - %(levelname)s - %(message)s')\n",
    "\n",
    "def process_data(data):\n",
    "    logging.info(f\"Starting to process data: {data}\")\n",
    "    try:\n",
    "        result = 10 / data\n",
    "        logging.info(f\"Successfully processed data. Result: {result}\")\n",
    "        return result\n",
    "    except ZeroDivisionError:\n",
    "        logging.error(\"Attempted to divide by zero during data processing.\")\n",
    "        return None\n",
    "    except TypeError:\n",
    "        logging.error(\"Invalid data type provided for processing.\")\n",
    "        return None\n",
    "\n",
    "process_data(5)\n",
    "process_data(0)\n",
    "process_data(\"hello\")\n",
    "\n",
    "print(\"Check 'app_events.log' for messages.\")\n"
   ]
  },
  {
   "cell_type": "code",
   "execution_count": null,
   "id": "5bcb5a5e-24de-47e1-b53c-9d9c279ebbe7",
   "metadata": {},
   "outputs": [],
   "source": [
    "Question 15. Write a Python program that prints the content of a file and handles the case when the file is empty."
   ]
  },
  {
   "cell_type": "code",
   "execution_count": 16,
   "id": "cc947466-6ecb-4819-8351-46ea51610c21",
   "metadata": {},
   "outputs": [
    {
     "name": "stdout",
     "output_type": "stream",
     "text": [
      "File 'empty_file.txt' is empty.\n",
      "------------------------------\n",
      "Content of 'file_with_content.txt':\n",
      "Some content here.\n",
      "More lines.\n",
      "------------------------------\n",
      "Error: The file 'non_existent_again.txt' was not found.\n"
     ]
    }
   ],
   "source": [
    "#Answer 15\n",
    "file_path_empty = \"empty_file.txt\"\n",
    "file_path_content = \"file_with_content.txt\"\n",
    "\n",
    "# Create an empty file\n",
    "with open(file_path_empty, 'w') as f:\n",
    "    pass\n",
    "\n",
    "# Create a file with content\n",
    "with open(file_path_content, 'w') as f:\n",
    "    f.write(\"Some content here.\\n\")\n",
    "    f.write(\"More lines.\")\n",
    "\n",
    "def print_file_content(filepath):\n",
    "    try:\n",
    "        with open(filepath, 'r') as file:\n",
    "            content = file.read()\n",
    "            if not content: # Check if the content is empty\n",
    "                print(f\"File '{filepath}' is empty.\")\n",
    "            else:\n",
    "                print(f\"Content of '{filepath}':\\n{content}\")\n",
    "    except FileNotFoundError:\n",
    "        print(f\"Error: The file '{filepath}' was not found.\")\n",
    "\n",
    "print_file_content(file_path_empty)\n",
    "print(\"-\" * 30)\n",
    "print_file_content(file_path_content)\n",
    "print(\"-\" * 30)\n",
    "print_file_content(\"non_existent_again.txt\")"
   ]
  },
  {
   "cell_type": "code",
   "execution_count": null,
   "id": "2ca44878-a05d-4d1f-9329-ae5fb12a6083",
   "metadata": {},
   "outputs": [],
   "source": [
    "Question 16. Demonstrate how to use memory profiling to check the memory usage of a small program."
   ]
  },
  {
   "cell_type": "code",
   "execution_count": null,
   "id": "d6b64651-ba81-420e-b5d0-50847529d9bd",
   "metadata": {},
   "outputs": [],
   "source": [
    "#Answer 16\n",
    "# Save this as a Python file (e.g., memory_demo.py)\n",
    "# Then run from your terminal: python -m memory_profiler memory_demo.py\n",
    "\n",
    "from memory_profiler import profile\n",
    "\n",
    "@profile\n",
    "def my_function():\n",
    "    a = [i for i in range(1000000)] # A large list\n",
    "    b = \"Hello World\" * 10000 # A large string\n",
    "    c = {\"key\": i for i in range(50000)} # A large dictionary\n",
    "    del a # Release memory\n",
    "\n",
    "if __name__ == '__main__':\n",
    "    print(\"Running my_function to profile memory usage...\")\n",
    "    my_function()\n",
    "    print(\"Profiling complete. Check the output above for memory usage details.\")"
   ]
  },
  {
   "cell_type": "code",
   "execution_count": null,
   "id": "7bc16dc9-94b4-4269-a5b3-d25d344d93d3",
   "metadata": {},
   "outputs": [],
   "source": [
    "Question 17.Write a Python program to create and write a list of numbers to a file, one number per line."
   ]
  },
  {
   "cell_type": "code",
   "execution_count": 18,
   "id": "4af3f3e0-7283-4a6a-931e-a901ff98d0fb",
   "metadata": {},
   "outputs": [
    {
     "name": "stdout",
     "output_type": "stream",
     "text": [
      "List of numbers written to 'numbers.txt' successfully.\n",
      "\n",
      "Content of 'numbers.txt':\n",
      "10\n",
      "20\n",
      "30\n",
      "40\n",
      "50\n",
      "60\n",
      "\n"
     ]
    }
   ],
   "source": [
    "#Answer 17\n",
    "numbers = [10, 20, 30, 40, 50, 60]\n",
    "output_file = \"numbers.txt\"\n",
    "\n",
    "try:\n",
    "    with open(output_file, 'w') as file:\n",
    "        for number in numbers:\n",
    "            file.write(str(number) + '\\n') # Convert number to string and add newline\n",
    "    print(f\"List of numbers written to '{output_file}' successfully.\")\n",
    "except IOError as e:\n",
    "    print(f\"Error writing to file: {e}\")\n",
    "\n",
    "# Verify content\n",
    "with open(output_file, 'r') as file:\n",
    "    print(\"\\nContent of 'numbers.txt':\")\n",
    "    print(file.read())"
   ]
  },
  {
   "cell_type": "code",
   "execution_count": null,
   "id": "b3a09fe6-ecdc-4c06-9d16-d62d71f2b685",
   "metadata": {},
   "outputs": [],
   "source": [
    "Question 18.  How would you implement a basic logging setup that logs to a file with rotation after 1MB?"
   ]
  },
  {
   "cell_type": "code",
   "execution_count": null,
   "id": "6757a46f-c372-4483-97dd-adba9245ff0c",
   "metadata": {},
   "outputs": [],
   "source": [
    "import logging\n",
    "from logging.handlers import RotatingFileHandler\n",
    "import os\n",
    "\n",
    "log_file = \"rotated_log.log\"\n",
    "max_bytes = 1 * 1024 * 1024 # 1 MB\n",
    "backup_count = 5 # Keep 5 backup files\n",
    "\n",
    "# Create a logger\n",
    "logger = logging.getLogger(__name__)\n",
    "logger.setLevel(logging.INFO)\n",
    "\n",
    "# Create a rotating file handler\n",
    "handler = RotatingFileHandler(log_file, maxBytes=max_bytes, backupCount=backup_count)\n",
    "\n",
    "# Create a formatter\n",
    "formatter = logging.Formatter('%(asctime)s - %(levelname)s - %(message)s')\n",
    "handler.setFormatter(formatter)\n",
    "\n",
    "# Add the handler to the logger\n",
    "logger.addHandler(handler)\n",
    "\n",
    "# Demonstrate logging\n",
    "for i in range(100000): # Log many messages to trigger rotation quickly\n",
    "    logger.info(f\"This is log message number {i}.\")\n",
    "\n",
    "print(f\"Logging complete. Check '{log_file}' and its rotated files.\")\n",
    "print(f\"Current log file size: {os.path.getsize(log_file) / (1024 * 1024):.2f} MB\")"
   ]
  },
  {
   "cell_type": "code",
   "execution_count": null,
   "id": "bfa5c2fa-843b-4787-a030-093d14ccd84d",
   "metadata": {},
   "outputs": [],
   "source": [
    "Question 19.Write a program that handles both IndexError and KeyError using a try-except block."
   ]
  },
  {
   "cell_type": "code",
   "execution_count": 21,
   "id": "447b6a5b-4978-4fb7-b4a4-934d6898e961",
   "metadata": {},
   "outputs": [
    {
     "name": "stdout",
     "output_type": "stream",
     "text": [
      "--- Attempt 1 (Valid) ---\n",
      "Value from list at index 0: 10\n",
      "Value from dictionary with key 'a': 1\n",
      "\n",
      "--- Attempt 2 (IndexError) ---\n",
      "Error: IndexError - List index 5 is out of range.\n",
      "\n",
      "--- Attempt 3 (KeyError) ---\n",
      "Value from list at index 0: 10\n",
      "Error: KeyError - Dictionary key 'c' does not exist.\n",
      "\n",
      "--- Attempt 4 (Both, but first one caught) ---\n",
      "Error: IndexError - List index 5 is out of range.\n"
     ]
    }
   ],
   "source": [
    "#Answer 19.\n",
    "data_list = [10, 20, 30]\n",
    "data_dict = {\"a\": 1, \"b\": 2}\n",
    "\n",
    "def access_elements(list_data, dict_data, list_index, dict_key):\n",
    "    try:\n",
    "        list_value = list_data[list_index]\n",
    "        print(f\"Value from list at index {list_index}: {list_value}\")\n",
    "\n",
    "        dict_value = dict_data[dict_key]\n",
    "        print(f\"Value from dictionary with key '{dict_key}': {dict_value}\")\n",
    "    except IndexError:\n",
    "        print(f\"Error: IndexError - List index {list_index} is out of range.\")\n",
    "    except KeyError:\n",
    "        print(f\"Error: KeyError - Dictionary key '{dict_key}' does not exist.\")\n",
    "    except Exception as e:\n",
    "        print(f\"An unexpected error occurred: {e}\")\n",
    "\n",
    "print(\"--- Attempt 1 (Valid) ---\")\n",
    "access_elements(data_list, data_dict, 0, \"a\")\n",
    "\n",
    "print(\"\\n--- Attempt 2 (IndexError) ---\")\n",
    "access_elements(data_list, data_dict, 5, \"a\")\n",
    "\n",
    "print(\"\\n--- Attempt 3 (KeyError) ---\")\n",
    "access_elements(data_list, data_dict, 0, \"c\")\n",
    "\n",
    "print(\"\\n--- Attempt 4 (Both, but first one caught) ---\")\n",
    "access_elements(data_list, data_dict, 5, \"c\") # IndexError will be caught first"
   ]
  },
  {
   "cell_type": "code",
   "execution_count": null,
   "id": "fed3ed45-3f91-4ac8-8c51-c4cba8c5ad24",
   "metadata": {},
   "outputs": [],
   "source": [
    "Question 20.How would you open a file and read its contents using a context manager in Python?"
   ]
  },
  {
   "cell_type": "code",
   "execution_count": null,
   "id": "fcc38ecd-6bc2-47e0-bb82-a8094d92b386",
   "metadata": {},
   "outputs": [],
   "source": [
    "#Answer 20.file_to_read = \"example_file.txt\"\n",
    "\n",
    "# Create a sample file\n",
    "with open(file_to_read, 'w') as f:\n",
    "    f.write(\"This is a line in the example file.\\n\")\n",
    "    f.write(\"Using a context manager ensures proper file handling.\")\n",
    "\n",
    "try:\n",
    "    with open(file_to_read, 'r') as file:\n",
    "        content = file.read()\n",
    "        print(f\"Contents of '{file_to_read}':\\n{content}\")\n",
    "except FileNotFoundError:\n",
    "    print(f\"Error: The file '{file_to_read}' was not found.\")"
   ]
  },
  {
   "cell_type": "raw",
   "id": "390d5c36-298a-4976-b9d6-82172b5a8f6f",
   "metadata": {},
   "source": [
    "Question 21. Write a Python program that reads a file and prints the number of occurrences of a specific word."
   ]
  },
  {
   "cell_type": "code",
   "execution_count": 23,
   "id": "e7931d64-f282-436f-8a30-50bfcd74ddf3",
   "metadata": {},
   "outputs": [
    {
     "name": "stdout",
     "output_type": "stream",
     "text": [
      "The word 'Python' appears 3 times in 'sample_document.txt'.\n",
      "The word 'is' appears 3 times in 'sample_document.txt'.\n",
      "The word 'programming' appears 1 times in 'sample_document.txt'.\n",
      "The word 'nonexistent' appears 0 times in 'sample_document.txt'.\n",
      "Error: The file 'non_existent_doc.txt' was not found.\n"
     ]
    }
   ],
   "source": [
    "#Answer 21\n",
    "def count_word_occurrences(filepath, word_to_find):\n",
    "    \"\"\"\n",
    "    Reads a file and counts the occurrences of a specific word (case-insensitive).\n",
    "\n",
    "    Args:\n",
    "        filepath (str): The path to the file.\n",
    "        word_to_find (str): The word to search for.\n",
    "    \"\"\"\n",
    "    try:\n",
    "        with open(filepath, 'r', encoding='utf-8') as file:\n",
    "            content = file.read()\n",
    "            # Convert content and the word to find to lowercase for case-insensitive search\n",
    "            content_lower = content.lower()\n",
    "            word_to_find_lower = word_to_find.lower()\n",
    "\n",
    "            # Split the content into words. Using re.findall to handle punctuation.\n",
    "            import re\n",
    "            words = re.findall(r'\\b\\w+\\b', content_lower) # \\b for word boundaries\n",
    "\n",
    "            count = words.count(word_to_find_lower)\n",
    "            print(f\"The word '{word_to_find}' appears {count} times in '{filepath}'.\")\n",
    "\n",
    "    except FileNotFoundError:\n",
    "        print(f\"Error: The file '{filepath}' was not found.\")\n",
    "    except Exception as e:\n",
    "        print(f\"An unexpected error occurred: {e}\")\n",
    "\n",
    "# --- Example Usage ---\n",
    "# 1. Create a sample file for demonstration\n",
    "sample_text = \"\"\"\n",
    "Python is a great programming language.\n",
    "It is easy to learn and powerful.\n",
    "Many people use Python for various tasks, including data analysis and web development.\n",
    "PYTHON is versatile.\n",
    "\"\"\"\n",
    "with open(\"sample_document.txt\", 'w', encoding='utf-8') as f:\n",
    "    f.write(sample_text)\n",
    "\n",
    "# Test with an existing file and a common word\n",
    "count_word_occurrences(\"sample_document.txt\", \"Python\")\n",
    "count_word_occurrences(\"sample_document.txt\", \"is\")\n",
    "count_word_occurrences(\"sample_document.txt\", \"programming\")\n",
    "count_word_occurrences(\"sample_document.txt\", \"nonexistent\")\n",
    "\n",
    "# Test with a non-existent file\n",
    "count_word_occurrences(\"non_existent_doc.txt\", \"word\")"
   ]
  },
  {
   "cell_type": "code",
   "execution_count": null,
   "id": "a661ada5-5dd1-48a1-8d3d-a15c8b4e347b",
   "metadata": {},
   "outputs": [],
   "source": [
    "Question 22.How can you check if a file is empty before attempting to read its contents?"
   ]
  },
  {
   "cell_type": "code",
   "execution_count": 24,
   "id": "1d231615-f58c-49cb-8d46-f4fdfd042522",
   "metadata": {},
   "outputs": [
    {
     "name": "stdout",
     "output_type": "stream",
     "text": [
      "The file 'empty_test.txt' is empty.\n",
      "The file 'content_test.txt' is NOT empty. Size: 18 bytes.\n",
      "Error: The file 'non_existent_file_check.txt' does not exist.\n",
      "The file 'content_test.txt' is NOT empty. Size: 18 bytes.\n",
      "\n",
      "Reading content:\n",
      "Some content here.\n"
     ]
    }
   ],
   "source": [
    "#Answer 22.\n",
    "import os\n",
    "\n",
    "def is_file_empty(filepath):\n",
    "    \"\"\"\n",
    "    Checks if a file is empty.\n",
    "\n",
    "    Args:\n",
    "        filepath (str): The path to the file.\n",
    "\n",
    "    Returns:\n",
    "        bool: True if the file exists and is empty, False otherwise.\n",
    "    \"\"\"\n",
    "    try:\n",
    "        # Check if the file exists first\n",
    "        if not os.path.exists(filepath):\n",
    "            print(f\"Error: The file '{filepath}' does not exist.\")\n",
    "            return False\n",
    "\n",
    "        # Get the size of the file in bytes\n",
    "        file_size = os.path.getsize(filepath)\n",
    "\n",
    "        if file_size == 0:\n",
    "            print(f\"The file '{filepath}' is empty.\")\n",
    "            return True\n",
    "        else:\n",
    "            print(f\"The file '{filepath}' is NOT empty. Size: {file_size} bytes.\")\n",
    "            return False\n",
    "    except OSError as e:\n",
    "        print(f\"An OS error occurred while checking file '{filepath}': {e}\")\n",
    "        return False\n",
    "    except Exception as e:\n",
    "        print(f\"An unexpected error occurred: {e}\")\n",
    "        return False\n",
    "\n",
    "# --- Example Usage ---\n",
    "# Create a dummy empty file\n",
    "with open(\"empty_test.txt\", 'w') as f:\n",
    "    pass # Creates an empty file\n",
    "\n",
    "# Create a dummy file with content\n",
    "with open(\"content_test.txt\", 'w') as f:\n",
    "    f.write(\"Some content here.\")\n",
    "\n",
    "# Test cases\n",
    "is_file_empty(\"empty_test.txt\")\n",
    "is_file_empty(\"content_test.txt\")\n",
    "is_file_empty(\"non_existent_file_check.txt\")\n",
    "\n",
    "# Example of how to use it before reading:\n",
    "file_to_read = \"content_test.txt\"\n",
    "if os.path.exists(file_to_read) and not is_file_empty(file_to_read):\n",
    "    try:\n",
    "        with open(file_to_read, 'r') as f:\n",
    "            print(\"\\nReading content:\")\n",
    "            print(f.read())\n",
    "    except Exception as e:\n",
    "        print(f\"Error reading file: {e}\")\n",
    "else:\n",
    "    print(f\"\\nSkipping read operation for '{file_to_read}' as it's empty or doesn't exist.\")"
   ]
  },
  {
   "cell_type": "code",
   "execution_count": null,
   "id": "e0901a34-d88c-4546-9be1-4381aeb66ad2",
   "metadata": {},
   "outputs": [],
   "source": [
    "Question 23.Write a Python program that writes to a log file when an error occurs during file handling."
   ]
  },
  {
   "cell_type": "code",
   "execution_count": 25,
   "id": "5a9bbf76-a37d-4dc6-9b82-c175393dcf23",
   "metadata": {},
   "outputs": [
    {
     "name": "stdout",
     "output_type": "stream",
     "text": [
      "Successfully read 'test_data.txt'. Content length: 23 characters.\n",
      "\n",
      "---\n",
      "Operation failed: File not found: The file 'missing_file.txt' does not exist.\n",
      "\n",
      "---\n",
      "Successfully wrote to protected_write_attempt.txt (this might mean it's not truly protected for this user).\n",
      "\n",
      "Check 'file_handling_errors.log' for error messages.\n",
      "Log file 'file_handling_errors.log' created.\n"
     ]
    }
   ],
   "source": [
    "#Ansswer 23.\n",
    "import logging\n",
    "import os\n",
    "\n",
    "# --- Logging Configuration ---\n",
    "log_filename = \"file_handling_errors.log\"\n",
    "\n",
    "# Create a logger instance\n",
    "logger = logging.getLogger(__name__)\n",
    "logger.setLevel(logging.ERROR) # Set the logging level to ERROR\n",
    "\n",
    "# Create a file handler\n",
    "# This handler will write log messages to the specified file\n",
    "file_handler = logging.FileHandler(log_filename)\n",
    "\n",
    "# Create a formatter\n",
    "# This defines the format of the log messages\n",
    "formatter = logging.Formatter('%(asctime)s - %(levelname)s - %(message)s')\n",
    "file_handler.setFormatter(formatter)\n",
    "\n",
    "# Add the handler to the logger\n",
    "logger.addHandler(file_handler)\n",
    "\n",
    "# --- File Handling Function with Error Logging ---\n",
    "def read_and_process_file(filepath):\n",
    "    \"\"\"\n",
    "    Attempts to read a file and logs an error if file handling fails.\n",
    "\n",
    "    Args:\n",
    "        filepath (str): The path to the file to read.\n",
    "    \"\"\"\n",
    "    try:\n",
    "        with open(filepath, 'r', encoding='utf-8') as file:\n",
    "            content = file.read()\n",
    "            print(f\"Successfully read '{filepath}'. Content length: {len(content)} characters.\")\n",
    "            # In a real application, you would process the content here\n",
    "    except FileNotFoundError:\n",
    "        error_message = f\"File not found: The file '{filepath}' does not exist.\"\n",
    "        print(f\"Operation failed: {error_message}\")\n",
    "        logger.error(error_message) # Log the error\n",
    "    except IOError as e:\n",
    "        error_message = f\"I/O error occurred while handling '{filepath}': {e}\"\n",
    "        print(f\"Operation failed: {error_message}\")\n",
    "        logger.error(error_message) # Log the error\n",
    "    except Exception as e:\n",
    "        error_message = f\"An unexpected error occurred during file handling for '{filepath}': {e}\"\n",
    "        print(f\"Operation failed: {error_message}\")\n",
    "        logger.error(error_message) # Log any other unexpected errors\n",
    "\n",
    "# --- Example Usage ---\n",
    "# Test case 1: File exists and is readable\n",
    "existing_file = \"test_data.txt\"\n",
    "with open(existing_file, 'w') as f:\n",
    "    f.write(\"This is some test data.\")\n",
    "read_and_process_file(existing_file)\n",
    "\n",
    "print(\"\\n---\")\n",
    "\n",
    "# Test case 2: File does not exist\n",
    "non_existent_file = \"missing_file.txt\"\n",
    "read_and_process_file(non_existent_file)\n",
    "\n",
    "print(\"\\n---\")\n",
    "\n",
    "# Test case 3: Attempt to write to a protected location (may require specific permissions)\n",
    "# This example might not trigger an IOError on all systems, but it demonstrates the intent.\n",
    "# On Linux, try a path like \"/root/protected_write.txt\" if you run as a non-root user.\n",
    "# On Windows, try \"C:\\\\Program Files\\\\protected_write.txt\"\n",
    "protected_path = \"protected_write_attempt.txt\" # Adjust this path if needed for testing\n",
    "try:\n",
    "    # Attempt to open for writing in a potentially protected location\n",
    "    with open(protected_path, 'w') as f:\n",
    "        f.write(\"Attempting to write here.\")\n",
    "    print(f\"Successfully wrote to {protected_path} (this might mean it's not truly protected for this user).\")\n",
    "except IOError as e:\n",
    "    error_message = f\"Permission denied or other I/O error when writing to '{protected_path}': {e}\"\n",
    "    print(f\"Operation failed: {error_message}\")\n",
    "    logger.error(error_message)\n",
    "except Exception as e:\n",
    "    error_message = f\"An unexpected error occurred during protected write attempt: {e}\"\n",
    "    print(f\"Operation failed: {error_message}\")\n",
    "    logger.error(error_message)\n",
    "\n",
    "\n",
    "print(f\"\\nCheck '{log_filename}' for error messages.\")\n",
    "\n",
    "# Clean up test files\n",
    "if os.path.exists(existing_file):\n",
    "    os.remove(existing_file)\n",
    "if os.path.exists(log_filename):\n",
    "    print(f\"Log file '{log_filename}' created.\")"
   ]
  },
  {
   "cell_type": "code",
   "execution_count": null,
   "id": "c688e9de-a27f-433c-994a-b09d5a975413",
   "metadata": {},
   "outputs": [],
   "source": []
  }
 ],
 "metadata": {
  "kernelspec": {
   "display_name": "Python 3 (ipykernel)",
   "language": "python",
   "name": "python3"
  },
  "language_info": {
   "codemirror_mode": {
    "name": "ipython",
    "version": 3
   },
   "file_extension": ".py",
   "mimetype": "text/x-python",
   "name": "python",
   "nbconvert_exporter": "python",
   "pygments_lexer": "ipython3",
   "version": "3.12.7"
  }
 },
 "nbformat": 4,
 "nbformat_minor": 5
}
