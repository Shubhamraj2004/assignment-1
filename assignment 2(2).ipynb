{
 "cells": [
  {
   "cell_type": "raw",
   "id": "ba18a89f-478c-4c4e-8fbd-cd5839021c0e",
   "metadata": {},
   "source": [
    "Question 1 :What are data structures, and why are they important?\n",
    "Answer -  A data structure is a way of organizing and storing data in a computer so that it can be accessed and used efficiently. It refers to the                 logical or mathematical representation of data, as well as the implementation in a computer program.\n",
    "          it enabling programs to run faster and more effectively. They allow for better memory management, code reusability, and make it easier to                design algorithms that solve complex problems. Without data structures, managing large amounts of data and designing efficient algorithms                would be significantly more challenging. \n",
    "\n",
    "Question 2 :Explain the difference between mutable and immutable data types with examples\n",
    "Answer - . Mutable Data Types\n",
    "         - Objects can be modified after creation.\n",
    "         - Changing elements does not create a new object, it modifies the existing one.\n",
    "         - Examples: Lists, Dictionaries, Sets\n",
    "         \n",
    "         Immutable Data Types\n",
    "        - Objects cannot be changed after creation.\n",
    "        - Any modification creates a new object rather than altering the existing one.\n",
    "        - Examples: Tuples, Strings, Integers, Floats\n",
    "        \n",
    "        - Modification:\n",
    "        - Mutable: Can be changed after creation.\n",
    "        - Immutable: Cannot be changed; a new object must be created.\n",
    "        - Examples:\n",
    "        - Mutable: Lists, dictionaries, sets.\n",
    "        - Immutable: Strings, tuples, integers, floats.\n",
    "        - Memory Usage:\n",
    "        - Mutable: Changes occur in place, reducing unnecessary memory allocation.\n",
    "        - Immutable: A new object is created upon modification, increasing memory usage.\n",
    "        - Performance:\n",
    "        - Mutable: Slower for certain operations due to modification overhead.\n",
    "        - Immutable: Faster as they don’t require additional memory modifications.\n",
    "        - Safety:\n",
    "        - Mutable: Can lead to unintended side effects in programming.\n",
    "        - Immutable: Ensures data integrity, preventing accidental changes.\n",
    "\n",
    "Question 3 : What are the main differences between lists and tuples in Python\n",
    "Answwer     The main difference between lists and tuples in Python is that lists are mutable (can be changed) while tuples are immutable (cannot be                  changed after creation). Lists are enclosed in square brackets [], while tuples are enclosed in parentheses (). \n",
    "\n",
    "            Lists:\n",
    "\n",
    "           Mutable: Elements can be added, removed, or changed after the list is created. \n",
    "           Dynamic: The size of a list can change as elements are added or removed. \n",
    "           Usage: Suitable for data that needs frequent updates or modifications. \n",
    "           Examples: my_list = [1, 2, 3], my_list[0] = 4 (changing an element). \n",
    "\n",
    "           Tuples:\n",
    "\n",
    "           Immutable: Once created, elements cannot be modified or deleted. \n",
    "           Static: The size of a tuple is fixed after creation. \n",
    "           Usage: Suitable for data that needs to remain constant or for situations where data integrity is important. \n",
    "           Examples: my_tuple = (1, 2, 3). \n",
    "\n",
    "Question 4 : Describe how dictionaries store data.\n",
    "Answer   Dictionaries, in programming, store data using a key-value pair system. This means that each piece of data is associated with a unique                     identifier, called the key, and its value is the actual data stored. This organization allows for efficient retrieval of data by using the key             to locate its corresponding value. \n",
    "         \n",
    "         Elaboration:\n",
    "         Key-Value Pairs:\n",
    "         Dictionaries store data in the form of key-value pairs. The key is a unique identifier (like a name or an index), and the value is the data                associated with that key. \n",
    "         Unordered:\n",
    "         Dictionaries in Python, for example, are unordered, meaning the order in which the key-value pairs are stored is not guaranteed and does not               affect how the data is accessed or retrieved. \n",
    "         Mutable:\n",
    "         Dictionaries are typically mutable, meaning they can be modified after creation. This includes adding, deleting, or updating key-value pairs. \n",
    "         Unique Keys:\n",
    "         Keys within a dictionary must be unique. If you try to insert a duplicate key, the existing value associated with that key will be overwritten. \n",
    "         Immutable Keys:\n",
    "         Keys in many programming languages (like Python) must be of immutable data types (such as strings, numbers, or tuples). \n",
    " \n",
    "\n",
    "Question 5 :Why might you use a set instead of a list in Python\n",
    "Answer -  Sets and lists serve different purposes in Python, and choosing one over the other depends on the specific task you’re trying to accomplish. Her\n",
    "         - Uniqueness: Sets automatically remove duplicate values, making them ideal for storing collections of unique elements.\n",
    "         - Fast Membership Testing: Checking if an item exists in a set (x in my_set) is much faster than checking in a list because sets use a hash-based           lookup.\n",
    "         - Set Operations: Sets support mathematical operations like union (|), intersection (&), and difference (-), which are extremely useful for data            comparisons.\n",
    "         - Ordering Doesn't Matter: If you don’t care about the order of elements, a set can be more efficient since it doesn’t maintain ordering like a              list does.\n",
    "\n",
    "Question 6 :What is a string in Python, and how is it different from a list\n",
    "Answer -  a string is an immutable sequence of characters, while a list is a mutable sequence of items, including other data types like strings, numbers,            or even other lists. Strings are represented by characters enclosed in quotes (single or double), and lists are defined by square brackets with            items separated by commas. \n",
    "\n",
    "Question 7 :How do tuples ensure data integrity in Python.\n",
    "Answer - Tuples in Python ensure data integrity through their immutability. Once a tuple is created, its elements cannot be modified, added, or removed.            This characteristic guarantees that the data stored within a tuple remains constant throughout its lifecycle, preventing accidental or                     intentional alterations that could compromise data integrity. Immutability also makes tuples suitable for use as keys in dictionaries and                  elements in sets, as their hash values remain consistent. \n",
    "\n",
    "Question 8 : What is a hash table, and how does it relate to dictionaries in Python\n",
    "Answer -  A hash table is a data structure that stores data in key-value pairs, where each key is unique and is mapped to a specific index in an array               using a hash function. This allows for efficient data retrieval, insertion, and deletion operations.\n",
    "          In Python, dictionaries are implemented using hash tables. When you create a dictionary, Python creates a hash table behind the scenes to store            the key-value pairs. The keys in the dictionary are hashed to determine their position in the hash table, allowing for fast lookups.\n",
    "\n",
    "Question 9 :Can lists contain different data types in Python\n",
    "Answer - Yes, lists in Python can contain elements of different data types. This is one of the features that makes Python lists very flexible. A single             list can hold integers, strings, floats, booleans, and even other lists or data structures. \n",
    "\n",
    "Question 10 :Explain why strings are immutable in Python\n",
    "Answer - Strings are immutable in Python for reasons related to efficiency, safety, and design principles. Immutability means that once a string is                 created, its value cannot be changed. Any operation that appears to modify a string actually creates a new string object.\n",
    "\n",
    "Question 11 :What advantages do dictionaries offer over lists for certain tasks\n",
    "Answer - Dictionaries excel over lists when you need fast lookup of data based on a specific identifier (key). Lists, on the other hand, are better for             ordered storage and retrieval where order is important. \n",
    "Advantages of Dictionaries:\n",
    "\n",
    "    Fast Data Retrieval:\n",
    "    Dictionaries use hashing to quickly locate values associated with keys, making them ideal for accessing specific data quickly. Lists, by contrast,         require sequential searching, which can be slow for large lists.\n",
    "    Logical Data Organization:\n",
    "    Dictionaries allow you to group related data together using key-value pairs, making it easier to organize and access data.\n",
    "    Mapping Relationships:\n",
    "    Dictionaries are well-suited for representing relationships between items, where one item (key) maps to another (value).\n",
    "    Dynamic Structure:\n",
    "    Dictionaries are mutable, allowing you to add, update, or delete key-value pairs as needed.\n",
    "    \n",
    "Advantages of Lists:\n",
    "\n",
    "    Ordered Storage:\n",
    "    Lists maintain the order of elements, which is crucial when order is important. \n",
    "    Versatile:\n",
    "    Lists can store any data type, including other lists, making them very flexible. \n",
    "    Dynamic Structure:\n",
    "    Lists can grow or shrink dynamically, allowing for flexible data storage. \n",
    "\n",
    "Question 12 : How do sets handle duplicate values in Python\n",
    "Answer -   Sets in Python automatically remove duplicate values when elements are added. This happens because sets are unordered collections of unique                elements, and they rely on a hashing mechanism to store items efficiently.\n",
    "       \n",
    "        - If you add duplicate elements to a set, Python will only keep one copy.\n",
    "        - When you initialize a set with a list containing duplicates, the set removes them.\n",
    "\n",
    "Question 13 : Describe a scenario where using a tuple would be preferable over a list\n",
    "Answer - A tuple is preferable over a list when immutability is required—meaning the data should remain unchanged once it is set.\n",
    "         By using a tuple instead of a list:\n",
    "         - You prevent accidental modification, ensuring data integrity.\n",
    "         - You gain performance advantages as tuples are faster than lists for fixed data.\n",
    "         - You can use the tuple as a dictionary key, since tuples are hashable while lists are not.\n",
    "\n",
    "Question 14 : How does the “in” keyword work differently for lists and dictionaries\n",
    "Amnswer - For Lists:\n",
    "          When used with a list, in checks if a specific value exists within the list. Python iterates over the list sequentially, meaning it performs a             linear search.\n",
    "          Example\n",
    "          my_list = [10, 20, 30, 40]\n",
    "          print(20 in my_list)  # Output: True\n",
    "          print(50 in my_list)  # Output: False\n",
    "          \n",
    "          For Dictionaries:\n",
    "          When used with a dictionary, in only checks for keys, not values! Python uses a hash table, making membership checks much faster than searching            through a list.\n",
    "          my_dict = {\"name\": \"Shubhamraj\", \"age\": 25, \"city\": \"Delhi\"}\n",
    "          print(\"name\" in my_dict)  # Output: True\n",
    "          print(\"Delhi\" in my_dict)  # Output: False (Checks keys, not values)\n",
    "\n",
    "Question 15 : Can you modify the elements of a tuple? Explain why or why not\n",
    "Answer - No, you cannot modify the elements of a tuple because tuples are immutable in Python. Once a tuple is created, its elements cannot be changed,             added, or removed.\n",
    "\n",
    "Question 16 : What is a nested dictionary, and give an example of its use case\n",
    "Answer - A nested dictionary in Python is a dictionary where the values are themselves dictionaries. This allows for the creation of a hierarchical                 structure where data can be organized into multiple levels. A common use case for nested dictionaries is representing complex, multi-layered               data, such as employee information with nested address and contact details. \n",
    "\n",
    "Question 17 : Describe the time complexity of accessing elements in a dictionary\n",
    "Answer - Accessing an element in a dictionary using its key typically has a time complexity of O(1) on average, meaning it takes constant time,                     regardless of the dictionary's size. However, in the worst-case scenario, it can degrade to O(n), where n is the number of key-value pairs, if             there are many hash collisions.\n",
    "Question 18 : In what situations are lists preferred over dictionaries\n",
    "Answer - Lists are often preferred over dictionaries when order matters and you need to store a collection of items where elements are accessed by their            position (index) rather than by a unique key. Lists are also advantageous for simple sequential operations like sorting or reversing elements.\n",
    "         Maintaining order:\n",
    "         If the order of elements is crucial (e.g., a list of tasks to be executed in a specific sequence), a list is a natural choice. \n",
    "         Sequential operations:\n",
    "         Operations like sorting, inserting, or deleting elements based on their position within the list are more efficient with lists. \n",
    "\n",
    "Question 19 : Why are dictionaries considered unordered, and how does that affect data retrieval\n",
    "Answer - Dictionaries in Python are considered unordered because they store key-value pairs using a hash table rather than maintaining a specific                   sequence of insertion. Unlike lists, dictionaries do not guarantee that items will remain in a fixed order when iterating over them.\n",
    "\n",
    "Why Are Dictionaries Unordered?\n",
    "- Hashing Mechanism:\n",
    "- Each key in a dictionary is processed through a hash function that maps it to a unique index in memory.\n",
    "- This means keys are stored based on hash values, not by their insertion order.\n",
    "- Efficient Lookups:\n",
    "- Because of hashing, Python can retrieve values instantly, regardless of the dictionary's size.\n",
    "\n",
    "Question 20 : Explain the difference between a list and a dictionary in terms of data retrieval.\n",
    "Answer - Lists:\n",
    "- A list is an ordered collection of elements, accessed by index (position).\n",
    "- Retrieving data from a list requires knowing the index of the element.\n",
    "- Since indexing starts at 0, accessing the third element in a list looks like this:\n",
    "- Time Complexity: Retrieving an element by index is O(1) (constant time), but searching for a specific value can take O(n) (linear time) if you don’t know the index.\n",
    "Dictionaries:\n",
    "- A dictionary is an unordered collection of key-value \n",
    "- Instead of retrieving values by index, you access data using keys.\n",
    "- This allows for fast lookups, as dictionary operations use hashing.\n",
    "- Time Complexity: Retrieving a value by key is O(1) (constant time) in average cases.\n",
    "\n"
   ]
  },
  {
   "cell_type": "code",
   "execution_count": null,
   "id": "c44b32d6-e028-49fd-9941-6fdff4ffa133",
   "metadata": {},
   "outputs": [],
   "source": [
    "PRACTICAL QUESTIONS"
   ]
  },
  {
   "cell_type": "code",
   "execution_count": null,
   "id": "867b8abb-6a04-45f4-9a70-21c1d421102f",
   "metadata": {},
   "outputs": [],
   "source": [
    "Question 1:  Write a code to create a string with your name and print it."
   ]
  },
  {
   "cell_type": "code",
   "execution_count": 1,
   "id": "d163a4eb-0520-44a7-a3ee-813b59585c45",
   "metadata": {},
   "outputs": [
    {
     "name": "stdout",
     "output_type": "stream",
     "text": [
      "Shubham RaJ Verma\n"
     ]
    }
   ],
   "source": [
    "#Answer 1 :\n",
    "my_name = \"Shubham RaJ Verma\"\n",
    "print(my_name)\n"
   ]
  },
  {
   "cell_type": "raw",
   "id": "ae54e902-27bd-41aa-a17b-478a23ab4893",
   "metadata": {},
   "source": [
    "Question 2 : Write a code to find the length of the string \"Hello World\""
   ]
  },
  {
   "cell_type": "code",
   "execution_count": 4,
   "id": "670dfa86-fdd0-4959-9d0c-1d6d63ac3c09",
   "metadata": {},
   "outputs": [
    {
     "name": "stdout",
     "output_type": "stream",
     "text": [
      "11\n"
     ]
    }
   ],
   "source": [
    "#Answer\n",
    "string = (\"Hello World\")\n",
    "print(len(\"Hello World\"))\n"
   ]
  },
  {
   "cell_type": "code",
   "execution_count": null,
   "id": "70d176a9-aff5-4286-8459-ae15d49f13f9",
   "metadata": {},
   "outputs": [],
   "source": [
    "Question 3 :write a code to slice the first 3 characters from the string \"Python Programming\""
   ]
  },
  {
   "cell_type": "code",
   "execution_count": 5,
   "id": "2b051520-fb63-489b-b2df-d7c92b177d69",
   "metadata": {},
   "outputs": [
    {
     "name": "stdout",
     "output_type": "stream",
     "text": [
      "Pyt\n"
     ]
    }
   ],
   "source": [
    "#Answer\n",
    "string1 = \"Python Programming\"\n",
    "sliced_string = string1[:3]\n",
    "print(sliced_string)"
   ]
  },
  {
   "cell_type": "code",
   "execution_count": null,
   "id": "e91acb58-d473-4cf4-8413-994b125d82fc",
   "metadata": {},
   "outputs": [],
   "source": [
    "Question 4 :write a code to convert the string \"hello\" to uppercase."
   ]
  },
  {
   "cell_type": "code",
   "execution_count": 6,
   "id": "03f8ad5d-7f48-49ca-b151-35bdfd9ceea8",
   "metadata": {},
   "outputs": [
    {
     "name": "stdout",
     "output_type": "stream",
     "text": [
      "HELLO\n"
     ]
    }
   ],
   "source": [
    "#Answer\n",
    "string = \"hello\"\n",
    "uppercase_string = string.upper()\n",
    "print(uppercase_string)"
   ]
  },
  {
   "cell_type": "code",
   "execution_count": null,
   "id": "21d78e62-b4d3-4d29-98df-2cd8abc6e14d",
   "metadata": {},
   "outputs": [],
   "source": [
    "Question 5 : write a code to replace the word \"apple\" with \"orange\" in the string \"I like apple\""
   ]
  },
  {
   "cell_type": "code",
   "execution_count": 7,
   "id": "facc7724-9204-464f-9b95-984a1bc73c9c",
   "metadata": {},
   "outputs": [
    {
     "name": "stdout",
     "output_type": "stream",
     "text": [
      "I like orange\n"
     ]
    }
   ],
   "source": [
    "#Answer\n",
    "string = \"I like apple\"\n",
    "replaced_string = string.replace(\"apple\", \"orange\")\n",
    "print(replaced_string)"
   ]
  },
  {
   "cell_type": "raw",
   "id": "1babf280-57ca-4218-b425-7e06087108a2",
   "metadata": {},
   "source": [
    "Question 6 : write a code to create a list with numbers 1 to 5 and print it."
   ]
  },
  {
   "cell_type": "code",
   "execution_count": 8,
   "id": "20133fe0-785a-48b1-b388-ac51a7029054",
   "metadata": {},
   "outputs": [
    {
     "name": "stdout",
     "output_type": "stream",
     "text": [
      "[1, 2, 3, 4, 5]\n"
     ]
    }
   ],
   "source": [
    "#Answer\n",
    "list = [1, 2, 3, 4, 5]\n",
    "print(list)"
   ]
  },
  {
   "cell_type": "code",
   "execution_count": null,
   "id": "6183199c-979b-41f8-9355-9aa22c46b556",
   "metadata": {},
   "outputs": [],
   "source": [
    "Question 7 :write a code to append the number 10 to the list [1, 2, 3, 4]."
   ]
  },
  {
   "cell_type": "code",
   "execution_count": 9,
   "id": "bcf36dd5-c914-4f8e-a1dc-d30dc93a69e8",
   "metadata": {},
   "outputs": [
    {
     "name": "stdout",
     "output_type": "stream",
     "text": [
      "[1, 2, 3, 4, 10]\n"
     ]
    }
   ],
   "source": [
    "#Answer\n",
    "list = [1, 2, 3, 4]\n",
    "list.append(10)\n",
    "print(list)"
   ]
  },
  {
   "cell_type": "code",
   "execution_count": null,
   "id": "9499b354-9db6-4f2d-a98b-9f6b26e0c60e",
   "metadata": {},
   "outputs": [],
   "source": [
    "Question 8 : write a code to remove the number 3 from the list [1, 2, 3, 4, 5]"
   ]
  },
  {
   "cell_type": "code",
   "execution_count": 12,
   "id": "645d9be7-c057-42d0-975a-5dcb9ec795b2",
   "metadata": {},
   "outputs": [
    {
     "name": "stdout",
     "output_type": "stream",
     "text": [
      "[1, 2, 4, 5]\n"
     ]
    }
   ],
   "source": [
    "#Answer\n",
    "list = [1, 2, 3, 4, 5]\n",
    "list.remove(3)\n",
    "print(list)"
   ]
  },
  {
   "cell_type": "code",
   "execution_count": null,
   "id": "88ed193d-ce1c-443d-879c-825b2e7d5e67",
   "metadata": {},
   "outputs": [],
   "source": [
    "Question 9 : write a code to access the second element in the list ['a', 'b', 'c', 'd']"
   ]
  },
  {
   "cell_type": "code",
   "execution_count": 13,
   "id": "88bc093d-f43b-450c-95fc-d493e6bd51cd",
   "metadata": {},
   "outputs": [
    {
     "name": "stdout",
     "output_type": "stream",
     "text": [
      "b\n"
     ]
    }
   ],
   "source": [
    "#Answer\n",
    "list = ['a', 'b', 'c', 'd']\n",
    "second_element = list[1]\n",
    "print(second_element)\n"
   ]
  },
  {
   "cell_type": "code",
   "execution_count": null,
   "id": "eef9c017-d344-409e-81ef-aab4247c1305",
   "metadata": {},
   "outputs": [],
   "source": [
    "Question 10 :  Write a code to reverse the list [10, 20, 30, 40, 50]"
   ]
  },
  {
   "cell_type": "code",
   "execution_count": 15,
   "id": "26425467-b3e1-4e34-9cea-a0dda7141217",
   "metadata": {},
   "outputs": [
    {
     "name": "stdout",
     "output_type": "stream",
     "text": [
      "[50, 40, 30, 20, 10]\n"
     ]
    }
   ],
   "source": [
    "#Answer\n",
    "list = [10, 20, 30, 40, 50]\n",
    "list.reverse()\n",
    "print(list)"
   ]
  },
  {
   "cell_type": "code",
   "execution_count": null,
   "id": "941e02ca-2c6b-44e5-82a7-227b29a4e3a8",
   "metadata": {},
   "outputs": [],
   "source": [
    "Question 11 : Write a code to create a tuple with the elements 100, 200, 300 and print it"
   ]
  },
  {
   "cell_type": "code",
   "execution_count": 16,
   "id": "5464e987-89e8-4486-bbe4-13637b7b174b",
   "metadata": {},
   "outputs": [
    {
     "name": "stdout",
     "output_type": "stream",
     "text": [
      "(100, 200, 300)\n"
     ]
    }
   ],
   "source": [
    "#Answer\n",
    "tuple = (100, 200, 300)\n",
    "print(tuple)"
   ]
  },
  {
   "cell_type": "code",
   "execution_count": null,
   "id": "06b65be1-b9bb-429d-83b6-5a0d2f7f6581",
   "metadata": {},
   "outputs": [],
   "source": [
    "Question 12 : . Write a code to access the second-to-last element of the tuple ('red', 'green', 'blue', 'yellow')"
   ]
  },
  {
   "cell_type": "code",
   "execution_count": 20,
   "id": "f34397e6-58cf-41d3-8c90-24e4d6c10bb0",
   "metadata": {},
   "outputs": [
    {
     "name": "stdout",
     "output_type": "stream",
     "text": [
      "('blue', 'yellow')\n"
     ]
    }
   ],
   "source": [
    "#Answer\n",
    "tuple = ('red', 'green', 'blue', 'yellow')\n",
    "second_to_last = tuple[2:]\n",
    "print(second_to_last)\n"
   ]
  },
  {
   "cell_type": "code",
   "execution_count": null,
   "id": "30e4bf61-f637-4fd8-a753-84153ce4da55",
   "metadata": {},
   "outputs": [],
   "source": [
    "Question 13 : Write a code to find the minimum number in the tuple (10, 20, 5, 15) "
   ]
  },
  {
   "cell_type": "code",
   "execution_count": 22,
   "id": "52d0377c-b100-4e6c-be37-6c372bd077c5",
   "metadata": {},
   "outputs": [
    {
     "name": "stdout",
     "output_type": "stream",
     "text": [
      "5\n"
     ]
    }
   ],
   "source": [
    "#Answer\n",
    "tuple = (10, 20, 5, 15)\n",
    "minimum_number = min(tuple)\n",
    "print(minimum_number)"
   ]
  },
  {
   "cell_type": "code",
   "execution_count": null,
   "id": "9d8498fb-d1b5-4027-afb6-66d8c34dd0e2",
   "metadata": {},
   "outputs": [],
   "source": [
    "Question 14 :. Write a code to find the index of the element \"cat\" in the tuple ('dog', 'cat', 'rabbit')."
   ]
  },
  {
   "cell_type": "code",
   "execution_count": 23,
   "id": "aa2358d0-558c-4469-8272-82621f0bbe92",
   "metadata": {},
   "outputs": [
    {
     "name": "stdout",
     "output_type": "stream",
     "text": [
      "1\n"
     ]
    }
   ],
   "source": [
    "#Answer\n",
    "tuple = ('dog', 'cat', 'rabbit')\n",
    "index_of_cat = tuple.index('cat')\n",
    "print(index_of_cat)"
   ]
  },
  {
   "cell_type": "code",
   "execution_count": null,
   "id": "d2f3d1e6-e10f-47d3-afc0-9ce22e279581",
   "metadata": {},
   "outputs": [],
   "source": [
    "Question 15 : . Write a code to create a tuple containing three different fruits and check if \"kiwi\" is in it"
   ]
  },
  {
   "cell_type": "code",
   "execution_count": 24,
   "id": "214a6344-ae60-4abb-bcd3-d949a586ac67",
   "metadata": {},
   "outputs": [
    {
     "name": "stdout",
     "output_type": "stream",
     "text": [
      "False\n"
     ]
    }
   ],
   "source": [
    "#Answer\n",
    "tuple = ('apple', 'banana', 'orange')\n",
    "is_kiwi_present = 'kiwi' in tuple\n",
    "print(is_kiwi_present)"
   ]
  },
  {
   "cell_type": "code",
   "execution_count": null,
   "id": "f6d4c85e-9ac3-498a-833d-3dd4f3b3a0f0",
   "metadata": {},
   "outputs": [],
   "source": [
    "Question 16 : Write a code to create a set with the elements 'a', 'b', 'c' and print it."
   ]
  },
  {
   "cell_type": "code",
   "execution_count": 25,
   "id": "17519d4b-a322-461f-9da4-1bd187ae7305",
   "metadata": {},
   "outputs": [
    {
     "name": "stdout",
     "output_type": "stream",
     "text": [
      "{'c', 'a', 'b'}\n"
     ]
    }
   ],
   "source": [
    "#Answer\n",
    "set = {'a', 'b', 'c'}\n",
    "print(set)"
   ]
  },
  {
   "cell_type": "code",
   "execution_count": null,
   "id": "ba651d37-f03e-4b39-99e1-c77450f05212",
   "metadata": {},
   "outputs": [],
   "source": [
    "Question 17 : Write a code to clear all elements from the set {1, 2, 3, 4, 5}."
   ]
  },
  {
   "cell_type": "code",
   "execution_count": 30,
   "id": "d82dc034-f8e3-49c2-bb04-5c94af181c8b",
   "metadata": {},
   "outputs": [
    {
     "name": "stdout",
     "output_type": "stream",
     "text": [
      "set()\n"
     ]
    }
   ],
   "source": [
    "#Answer\n",
    "set = {1, 2, 3, 4, 5}\n",
    "set.clear()\n",
    "print(set)"
   ]
  },
  {
   "cell_type": "code",
   "execution_count": null,
   "id": "f80658db-e883-45b6-ad6c-a854232f1527",
   "metadata": {},
   "outputs": [],
   "source": [
    "Question 18 : Write a code to remove the element 4 from the set {1, 2, 3, 4}"
   ]
  },
  {
   "cell_type": "code",
   "execution_count": 29,
   "id": "20251b2b-750f-4799-8a3b-a95dac138b07",
   "metadata": {},
   "outputs": [
    {
     "name": "stdout",
     "output_type": "stream",
     "text": [
      "{1, 2, 3}\n"
     ]
    }
   ],
   "source": [
    "#Answer\n",
    "set = {1, 2, 3, 4}\n",
    "set.remove(4)\n",
    "print(set)"
   ]
  },
  {
   "cell_type": "code",
   "execution_count": null,
   "id": "98cbf278-67c8-4cc5-a201-7dbbf49dea2d",
   "metadata": {},
   "outputs": [],
   "source": [
    "Question 19 : Write a code to find the union of two sets {1, 2, 3} and {3, 4, 5}"
   ]
  },
  {
   "cell_type": "code",
   "execution_count": 31,
   "id": "a0c36834-e046-497e-83e6-6c69374a142e",
   "metadata": {},
   "outputs": [
    {
     "name": "stdout",
     "output_type": "stream",
     "text": [
      "{1, 2, 3, 4, 5}\n"
     ]
    }
   ],
   "source": [
    "#Answer\n",
    "set1 = {1, 2, 3}\n",
    "set2 = {3, 4, 5}\n",
    "union_set = set1.union(set2)\n",
    "print(union_set)"
   ]
  },
  {
   "cell_type": "code",
   "execution_count": null,
   "id": "9177a9ee-8e64-4973-b344-3686778ce512",
   "metadata": {},
   "outputs": [],
   "source": [
    "Question 20 :Write a code to find the intersection of two sets {1, 2, 3} and {2, 3, 4}"
   ]
  },
  {
   "cell_type": "code",
   "execution_count": 33,
   "id": "c44c683b-6187-47aa-826d-37e8cb690f31",
   "metadata": {},
   "outputs": [
    {
     "name": "stdout",
     "output_type": "stream",
     "text": [
      "{2, 3}\n"
     ]
    }
   ],
   "source": [
    "#Answer\n",
    "set1 = {1, 2, 3}\n",
    "set2 = {2, 3, 4}\n",
    "intersection_set = set1.intersection(set2)\n",
    "print(intersection_set)"
   ]
  },
  {
   "cell_type": "code",
   "execution_count": null,
   "id": "a5f6fc9a-c0fc-4904-8605-b523e10f153c",
   "metadata": {},
   "outputs": [],
   "source": [
    "Question 21 : Write a code to create a dictionary with the keys \"name\", \"age\", and \"city\", and print it"
   ]
  },
  {
   "cell_type": "code",
   "execution_count": 36,
   "id": "a7917124-d660-4599-8821-d4ee7fd6325e",
   "metadata": {},
   "outputs": [
    {
     "name": "stdout",
     "output_type": "stream",
     "text": [
      "{'name': 'shubham raj', 'age': '20', 'city': 'BHOPAL'}\n"
     ]
    }
   ],
   "source": [
    "#Answer\n",
    "dict = {\"name\":\"shubham raj\", \"age\":\"20\", \"city\":\"BHOPAL\"}\n",
    "print(dict)"
   ]
  },
  {
   "cell_type": "code",
   "execution_count": null,
   "id": "6a05dc6f-88b5-4ec1-894b-899c83592457",
   "metadata": {},
   "outputs": [],
   "source": [
    "Question 22 :Write a code to add a new key-value pair \"country\": \"USA\" to the dictionary {'name': 'John', 'age': 25}."
   ]
  },
  {
   "cell_type": "code",
   "execution_count": 40,
   "id": "39d7368e-7a54-4c78-acfb-c84a6fa136f2",
   "metadata": {},
   "outputs": [
    {
     "name": "stdout",
     "output_type": "stream",
     "text": [
      "{'name': 'john', 'age': 25, 'country': 'USA'}\n"
     ]
    }
   ],
   "source": [
    "#Answer\n",
    "dict1 = {'name': 'john', 'age':25}\n",
    "dict1['country'] = 'USA'\n",
    "print(dict1)"
   ]
  },
  {
   "cell_type": "code",
   "execution_count": null,
   "id": "ac0ee6e5-c674-43bf-890f-0f024a171780",
   "metadata": {},
   "outputs": [],
   "source": [
    "Question 23 :Write a code to access the value associated with the key \"name\" in the dictionary {'name': 'Alice', 'age': 30}"
   ]
  },
  {
   "cell_type": "code",
   "execution_count": 41,
   "id": "7fa018ae-af7e-4506-89cc-aa2c47810b0e",
   "metadata": {},
   "outputs": [
    {
     "name": "stdout",
     "output_type": "stream",
     "text": [
      "Alice\n"
     ]
    }
   ],
   "source": [
    "#Answer\n",
    "dict = {'name': 'Alice', 'age': 30}\n",
    "name_value = dict['name']\n",
    "print(name_value)"
   ]
  },
  {
   "cell_type": "code",
   "execution_count": null,
   "id": "cef6b3a3-0e90-4df5-aabd-ed5d814f4413",
   "metadata": {},
   "outputs": [],
   "source": [
    "Question 24 : Write a code to remove the key \"age\" from the dictionary {'name': 'Bob', 'age': 22, 'city': 'New York'}."
   ]
  },
  {
   "cell_type": "code",
   "execution_count": 45,
   "id": "0ff7d3a1-79b0-40a6-b5c8-1421d05fbe99",
   "metadata": {},
   "outputs": [
    {
     "name": "stdout",
     "output_type": "stream",
     "text": [
      "{'name': 'Bob', 'city': 'New York'}\n"
     ]
    }
   ],
   "source": [
    "#Answser\n",
    "dict = {'name': 'Bob', 'age': 22, 'city': 'New York'}\n",
    "del dict['age']\n",
    "print(dict)"
   ]
  },
  {
   "cell_type": "code",
   "execution_count": null,
   "id": "1e7b4e67-a041-48ca-8c92-4734e7cb7037",
   "metadata": {},
   "outputs": [],
   "source": [
    "Question 25 :Write a code to check if the key \"city\" exists in the dictionary {'name': 'Alice', 'city': 'Paris'}"
   ]
  },
  {
   "cell_type": "code",
   "execution_count": 46,
   "id": "414ab87b-f6d8-4f0f-9ca8-7dfbff2b1f56",
   "metadata": {},
   "outputs": [
    {
     "name": "stdout",
     "output_type": "stream",
     "text": [
      "True\n"
     ]
    }
   ],
   "source": [
    "#Answer\n",
    "dict = {'name': 'Alice', 'city': 'Paris'}\n",
    "city_exists = 'city' in dict\n",
    "print(city_exists)"
   ]
  },
  {
   "cell_type": "code",
   "execution_count": null,
   "id": "662a41f5-8012-4711-9c30-979d7742e339",
   "metadata": {},
   "outputs": [],
   "source": [
    "Question 26 :Write a code to create a list, a tuple, and a dictionary, and print them all."
   ]
  },
  {
   "cell_type": "code",
   "execution_count": 52,
   "id": "811cb4b6-cda5-4d86-9106-017158fdb064",
   "metadata": {},
   "outputs": [
    {
     "name": "stdout",
     "output_type": "stream",
     "text": [
      "List: [1, 2, 3, 4]\n",
      "tuple: (0, 0, 0)\n",
      "dict {'channel': 'PW skills', 'course': 'DS with AI'}\n"
     ]
    }
   ],
   "source": [
    "#Answer\n",
    "my_list = [1, 2, 3, 4]\n",
    "my_tuple = (0, 0, 0,)\n",
    "my_dict = {'channel':'PW skills', 'course':'DS with AI'}\n",
    "print(\"List:\",my_list)\n",
    "print(\"tuple:\",my_tuple)\n",
    "print(\"dict\",my_dict)"
   ]
  },
  {
   "cell_type": "code",
   "execution_count": null,
   "id": "202b4c4f-e5b1-402f-b37c-945974f4a455",
   "metadata": {},
   "outputs": [],
   "source": [
    "Question 27 :Write a code to create a list of 5 random numbers between 1 and 100, sort it in ascending order, and print the result.(replaced)"
   ]
  },
  {
   "cell_type": "code",
   "execution_count": 62,
   "id": "02a9b889-6507-423a-8029-0dd365480274",
   "metadata": {},
   "outputs": [
    {
     "name": "stdout",
     "output_type": "stream",
     "text": [
      "[7, 27, 52, 52, 55]\n"
     ]
    }
   ],
   "source": [
    "#Answer\n",
    "import random\n",
    "random_numbers = [random.randint(1, 100) for _ in range(5)\n",
    "random_numbers.sort()\n",
    "print(random_numbers)"
   ]
  },
  {
   "cell_type": "code",
   "execution_count": null,
   "id": "e1dcbbc2-34ed-4439-8bd0-10f235428607",
   "metadata": {},
   "outputs": [],
   "source": [
    "Question 28 :Write a code to create a list with strings and print the element at the third index"
   ]
  },
  {
   "cell_type": "code",
   "execution_count": 55,
   "id": "0619a37d-1e8b-465d-84e7-7ec825ef4c30",
   "metadata": {},
   "outputs": [
    {
     "name": "stdout",
     "output_type": "stream",
     "text": [
      "Element at the third index: date\n"
     ]
    }
   ],
   "source": [
    "#Answer\n",
    "string_list = [\"apple\", \"banana\", \"cherry\", \"date\", \"elderberry\"]\n",
    "third_index_element = string_list[3]\n",
    "print(\"Element at the third index:\", third_index_elemen)"
   ]
  },
  {
   "cell_type": "code",
   "execution_count": null,
   "id": "efbe06b0-8754-4522-a475-fe5753e22e20",
   "metadata": {},
   "outputs": [],
   "source": [
    "Question 29 :Write a code to combine two dictionaries into one and print the result"
   ]
  },
  {
   "cell_type": "code",
   "execution_count": 56,
   "id": "73356ef0-a601-4113-ac58-1a23785e0995",
   "metadata": {},
   "outputs": [
    {
     "name": "stdout",
     "output_type": "stream",
     "text": [
      "Combined dictionary: {'a': 1, 'b': 2, 'c': 3, 'd': 4}\n"
     ]
    }
   ],
   "source": [
    "#Answer\n",
    "dict_a = {'a': 1, 'b': 2}\n",
    "dict_b = {'c': 3, 'd': 4}\n",
    "combined_dict = dict_a.copy()\n",
    "combined_dict.update(dict_b)\n",
    "print(\"Combined dictionary:\", combined_dict)\n"
   ]
  },
  {
   "cell_type": "raw",
   "id": "31463f02-170b-475d-9933-dde5aa403099",
   "metadata": {},
   "source": [
    "Question 30 :Convert a list of strings into a set."
   ]
  },
  {
   "cell_type": "raw",
   "id": "db2f8088-184a-4795-9aa1-c8679ed36dd5",
   "metadata": {},
   "source": [
    "#Answer\n",
    "my_list = [\"apple\", \"banana\", \"cherry\", \"apple\", \"banana\"]\n",
    "my_set = set(my_list)\n",
    "print(my_set)"
   ]
  },
  {
   "cell_type": "code",
   "execution_count": null,
   "id": "3fbd9941-49dd-40b0-80de-b8ac172e8012",
   "metadata": {},
   "outputs": [],
   "source": []
  }
 ],
 "metadata": {
  "kernelspec": {
   "display_name": "Python 3 (ipykernel)",
   "language": "python",
   "name": "python3"
  },
  "language_info": {
   "codemirror_mode": {
    "name": "ipython",
    "version": 3
   },
   "file_extension": ".py",
   "mimetype": "text/x-python",
   "name": "python",
   "nbconvert_exporter": "python",
   "pygments_lexer": "ipython3",
   "version": "3.12.7"
  }
 },
 "nbformat": 4,
 "nbformat_minor": 5
}
